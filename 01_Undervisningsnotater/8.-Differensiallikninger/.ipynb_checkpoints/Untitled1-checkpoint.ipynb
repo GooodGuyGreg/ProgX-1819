{
 "cells": [
  {
   "cell_type": "markdown",
   "metadata": {},
   "source": [
    "Muffins \n"
   ]
  },
  {
   "cell_type": "code",
   "execution_count": 3,
   "metadata": {},
   "outputs": [],
   "source": [
    "import numpy as np\n",
    "\n",
    "h = 2**(-7)\n",
    "T = 1\n",
    "N = round(T/h)\n",
    "t = np.linspace(0, T, N+1)\n",
    "a = np.zeros(N+1)\n",
    "m = np.zeros(N+1)\n",
    "s = np.zeros(N+1)"
   ]
  },
  {
   "cell_type": "code",
   "execution_count": 4,
   "metadata": {},
   "outputs": [],
   "source": [
    "def a(t):\n",
    "    return g - k*v**2/m"
   ]
  },
  {
   "cell_type": "code",
   "execution_count": null,
   "metadata": {},
   "outputs": [],
   "source": []
  }
 ],
 "metadata": {
  "kernelspec": {
   "display_name": "Python 3",
   "language": "python",
   "name": "python3"
  },
  "language_info": {
   "codemirror_mode": {
    "name": "ipython",
    "version": 3
   },
   "file_extension": ".py",
   "mimetype": "text/x-python",
   "name": "python",
   "nbconvert_exporter": "python",
   "pygments_lexer": "ipython3",
   "version": "3.7.1"
  }
 },
 "nbformat": 4,
 "nbformat_minor": 2
}
